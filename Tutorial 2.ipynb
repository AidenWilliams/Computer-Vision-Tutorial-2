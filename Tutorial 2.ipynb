{
 "cells": [
  {
   "cell_type": "markdown",
   "metadata": {
    "collapsed": true,
    "pycharm": {
     "name": "#%% md\n"
    }
   },
   "source": [
    "# Area Processing (Tutorial 2)\n",
    "***\n",
    "# Table of Contents\n",
    "1.   [Imports](#Imports)\n",
    "2.   [Exercise 1 - Sliding Window](#Exercise-1---Sliding-Window)\n",
    "3.   [Exercise 2 - Convolution on RoI](#Exercise-2---Convolution-on-RoI)\n",
    "4.   [Exercise 3 - Convolution on the Whole Image](#Exercise-3---Convolution-on-the-Whole-Image)\n",
    "5.   [Exercise 4 - Different Convolution Kernels](#Exercise-4---Different-Convolution-Kernels)\n"
   ]
  },
  {
   "cell_type": "markdown",
   "source": [
    "# Imports\n",
    "\n",
    "Only 3 libraries are needed for this project:\n",
    "* opencv (cv2) - For image processing\n",
    "* numpy - For its arrays\n",
    "* matplotlib - Plotting histograms"
   ],
   "metadata": {
    "collapsed": false
   }
  },
  {
   "cell_type": "code",
   "execution_count": 1,
   "outputs": [],
   "source": [
    "\n",
    "import cv2\n",
    "import numpy as np\n",
    "from matplotlib import pyplot as plt\n"
   ],
   "metadata": {
    "collapsed": false,
    "pycharm": {
     "name": "#%%\n"
    }
   }
  },
  {
   "cell_type": "markdown",
   "source": [
    "# Exercise 1 - Sliding Window"
   ],
   "metadata": {
    "collapsed": false
   }
  },
  {
   "cell_type": "markdown",
   "source": [
    "### Code Explenation\n",
    "\n",
    "First I load in the image i will be using for this tutorial and apply a gray filter to it."
   ],
   "metadata": {
    "collapsed": false,
    "pycharm": {
     "name": "#%% md\n"
    }
   }
  },
  {
   "cell_type": "code",
   "execution_count": 2,
   "outputs": [],
   "source": [
    "original_image = cv2.imread(\"cursed.jpg\")\n",
    "height, width, _ = original_image.shape\n",
    "gray = cv2.cvtColor(original_image, cv2.COLOR_BGR2GRAY)"
   ],
   "metadata": {
    "collapsed": false,
    "pycharm": {
     "name": "#%%\n"
    }
   }
  },
  {
   "cell_type": "markdown",
   "source": [
    "### cursed.jpg\n",
    "\n",
    "The image I will be using for this lab is one of my failed attempts of creating a pie chart for one of my statistics units\n",
    "from last year. It features a sun like object in the centre with black lines coming out from the centre, it is coloured in\n",
    "full RGB while the background is gray.\n",
    "\n",
    "<img src=\"cursed.jpg\">"
   ],
   "metadata": {
    "collapsed": false
   }
  },
  {
   "cell_type": "code",
   "execution_count": 7,
   "outputs": [],
   "source": [
    "class Window(object):\n",
    "    def __init__(self, image, n, s):\n",
    "        # make s can be tuple\n",
    "        self.x_boundary = image.shape[1] + n\n",
    "        self.y_boundary = image.shape[0] + s\n",
    "        self.top_left = (0, 0)\n",
    "        self.bot_right = (n, n)\n",
    "        self.previousBotY = n\n",
    "        self.height = n\n",
    "        self.stride = (s, s)\n",
    "\n",
    "    def forwardPos(self):\n",
    "        # Case when you need to go down and start new line\n",
    "        if (self.bot_right + self.stride)[0] >= (self.x_boundary - self.height):\n",
    "           # print(\"down\")\n",
    "            return (0, self.top_left[1] + self.stride[1]), (self.height, self.bot_right[1] + self.stride[1])\n",
    "        # generic move right case\n",
    "        else:\n",
    "            return (self.top_left[0] + self.stride[0], self.top_left[1]), (self.bot_right[0] + self.stride[0], self.bot_right[1])\n",
    "\n",
    "    def forwardMove(self):\n",
    "        self.top_left, self.bot_right = self.forwardPos()\n",
    "        return self.top_left, self.bot_right\n",
    "\n",
    "    def backwardPos(self):\n",
    "        # Case when you need to go up and go end of line\n",
    "        if (self.top_left - self.stride)[0] < 0:\n",
    "            return (self.x_boundary - self.height, self.top_left[1] - self.stride[1]), (self.x_boundary, self.bot_right[1] - self.stride[1])\n",
    "        # generic move left case\n",
    "        else:\n",
    "            return (self.top_left[0] - self.stride[0], self.top_left[1]), (self.bot_right[0] - self.stride[0], self.bot_right[1])\n",
    "\n",
    "    def backwardMove(self):\n",
    "        self.top_left, self.bot_right = self.backwardPos()\n",
    "        return self.top_left, self.bot_right\n",
    "\n",
    "    def inBoundary(self, new_top_left=None, new_bot_right=None):\n",
    "        if new_top_left is None:\n",
    "            new_top_left =  self.top_left\n",
    "        if new_bot_right is None:\n",
    "            new_bot_right =  self.bot_right\n",
    "\n",
    "        return  new_bot_right[0] <= self.x_boundary and new_bot_right[1] <= self.y_boundary and \\\n",
    "                new_top_left[0] >= 0 and new_top_left[1] >= 0\n",
    "\n",
    "    def changedY(self):\n",
    "        if self.previousBotY == self.bot_right[1]:\n",
    "            return False\n",
    "        else:\n",
    "            self.previousBotY = self.bot_right[1]\n",
    "            return True\n",
    "\n",
    "    # add get image in boundary\n",
    "    def getImageInBoundary(self, image):\n",
    "        safety = np.zeros((self.height, self.height))\n",
    "        new_image = []\n",
    "        for i in range(self.bot_right[1]):\n",
    "            new_image.append(image[:self.top_left[1] + i + 1][self.top_left[1]][self.top_left[0]:self.bot_right[1]])\n",
    "        # see how to add 2 different shapes with numpy\n",
    "        return safety + np.array(new_image)\n",
    "\n",
    "\n",
    "    def __str__(self):\n",
    "        return \"Top Left Corner \" + str(self.top_left) + \"\\nBot Right Corner \" + str(self.bot_right)\n",
    "\n",
    "    def getPos(self):\n",
    "        return self.top_left, self.bot_right"
   ],
   "metadata": {
    "collapsed": false,
    "pycharm": {
     "name": "#%%\n"
    }
   }
  },
  {
   "cell_type": "markdown",
   "source": [],
   "metadata": {
    "collapsed": false,
    "pycharm": {
     "name": "#%% md\n"
    }
   }
  },
  {
   "cell_type": "code",
   "execution_count": 8,
   "outputs": [],
   "source": [
    "%%capture\n",
    "win = Window(gray, 500, 100)\n",
    "start_point, end_point = win.getPos()\n",
    "\n",
    "# White\n",
    "color = (255, 255, 255)\n",
    "\n",
    "image = cv2.rectangle(gray.copy(), start_point, end_point, color)\n",
    "\n",
    "cv2.imwrite(\"Output/GrayWithRectangle.png\", image, [cv2.IMWRITE_PNG_COMPRESSION, 0])\n",
    "image2 = win.getImageInBoundary(gray)\n",
    "cv2.imwrite(\"Output/ROI.png\", image2, [cv2.IMWRITE_PNG_COMPRESSION, 0])"
   ],
   "metadata": {
    "collapsed": false,
    "pycharm": {
     "name": "#%%\n"
    }
   }
  },
  {
   "cell_type": "markdown",
   "source": [],
   "metadata": {
    "collapsed": false
   }
  },
  {
   "cell_type": "code",
   "execution_count": 5,
   "outputs": [],
   "source": [
    "%%capture\n",
    "show = True\n",
    "\n",
    "new_tl, new_br = win.forwardPos()\n",
    "while win.inBoundary(new_br):\n",
    "    image = cv2.rectangle(gray.copy(), start_point, end_point, (255, 255, 255))\n",
    "    if show:\n",
    "        cv2.imshow(\"Sliding Window\", image)\n",
    "        cv2.waitKey(int(1/35*1000))\n",
    "    start_point, end_point = win.forwardMove()\n",
    "    new_tl, new_br = win.forwardPos()\n",
    "cv2.destroyAllWindows()\n",
    "cv2.imwrite(\"Output/LastPic.png\", image, [cv2.IMWRITE_PNG_COMPRESSION, 0])\n"
   ],
   "metadata": {
    "collapsed": false,
    "pycharm": {
     "name": "#%%\n"
    }
   }
  },
  {
   "cell_type": "markdown",
   "source": [
    "# Exercise 2 - Convolution on RoI"
   ],
   "metadata": {
    "collapsed": false
   }
  },
  {
   "cell_type": "code",
   "execution_count": 10,
   "outputs": [
    {
     "ename": "ValueError",
     "evalue": "operands could not be broadcast together with shapes (3,3) (3,2) ",
     "output_type": "error",
     "traceback": [
      "\u001B[1;31m---------------------------------------------------------------------------\u001B[0m",
      "\u001B[1;31mValueError\u001B[0m                                Traceback (most recent call last)",
      "\u001B[1;32m<ipython-input-10-8d79e6e77362>\u001B[0m in \u001B[0;36m<module>\u001B[1;34m\u001B[0m\n\u001B[0;32m     55\u001B[0m \u001B[0mroi\u001B[0m \u001B[1;33m=\u001B[0m \u001B[0mwin\u001B[0m\u001B[1;33m.\u001B[0m\u001B[0mgetImageInBoundary\u001B[0m\u001B[1;33m(\u001B[0m\u001B[0mimage\u001B[0m\u001B[1;33m)\u001B[0m\u001B[1;33m\u001B[0m\u001B[1;33m\u001B[0m\u001B[0m\n\u001B[0;32m     56\u001B[0m \u001B[0mcv2\u001B[0m\u001B[1;33m.\u001B[0m\u001B[0mimwrite\u001B[0m\u001B[1;33m(\u001B[0m\u001B[1;34m\"Output/roi_before_filter.png\"\u001B[0m\u001B[1;33m,\u001B[0m \u001B[0mroi\u001B[0m\u001B[1;33m,\u001B[0m \u001B[1;33m[\u001B[0m\u001B[0mcv2\u001B[0m\u001B[1;33m.\u001B[0m\u001B[0mIMWRITE_PNG_COMPRESSION\u001B[0m\u001B[1;33m,\u001B[0m \u001B[1;36m0\u001B[0m\u001B[1;33m]\u001B[0m\u001B[1;33m)\u001B[0m\u001B[1;33m\u001B[0m\u001B[1;33m\u001B[0m\u001B[0m\n\u001B[1;32m---> 57\u001B[1;33m \u001B[0mfiltered\u001B[0m \u001B[1;33m=\u001B[0m \u001B[0msobel\u001B[0m\u001B[1;33m.\u001B[0m\u001B[0mfilterImage\u001B[0m\u001B[1;33m(\u001B[0m\u001B[0mimage\u001B[0m\u001B[1;33m,\u001B[0m \u001B[0mwin\u001B[0m\u001B[1;33m)\u001B[0m\u001B[1;33m\u001B[0m\u001B[1;33m\u001B[0m\u001B[0m\n\u001B[0m\u001B[0;32m     58\u001B[0m \u001B[0mcv2\u001B[0m\u001B[1;33m.\u001B[0m\u001B[0mimwrite\u001B[0m\u001B[1;33m(\u001B[0m\u001B[1;34m\"Output/roi_after_filter.png\"\u001B[0m\u001B[1;33m,\u001B[0m \u001B[0mfiltered\u001B[0m\u001B[1;33m,\u001B[0m \u001B[1;33m[\u001B[0m\u001B[0mcv2\u001B[0m\u001B[1;33m.\u001B[0m\u001B[0mIMWRITE_PNG_COMPRESSION\u001B[0m\u001B[1;33m,\u001B[0m \u001B[1;36m0\u001B[0m\u001B[1;33m]\u001B[0m\u001B[1;33m)\u001B[0m\u001B[1;33m\u001B[0m\u001B[1;33m\u001B[0m\u001B[0m\n\u001B[0;32m     59\u001B[0m \u001B[1;31m#test = sobel.filter(image, win)\u001B[0m\u001B[1;33m\u001B[0m\u001B[1;33m\u001B[0m\u001B[1;33m\u001B[0m\u001B[0m\n",
      "\u001B[1;32m<ipython-input-10-8d79e6e77362>\u001B[0m in \u001B[0;36mfilterImage\u001B[1;34m(self, image, window, axis)\u001B[0m\n\u001B[0;32m     40\u001B[0m                 \u001B[0mline\u001B[0m \u001B[1;33m=\u001B[0m \u001B[1;33m[\u001B[0m\u001B[1;33m]\u001B[0m\u001B[1;33m\u001B[0m\u001B[1;33m\u001B[0m\u001B[0m\n\u001B[0;32m     41\u001B[0m             \u001B[1;32melse\u001B[0m\u001B[1;33m:\u001B[0m\u001B[1;33m\u001B[0m\u001B[1;33m\u001B[0m\u001B[0m\n\u001B[1;32m---> 42\u001B[1;33m                 \u001B[0mroi\u001B[0m \u001B[1;33m=\u001B[0m \u001B[0mmoving_kernel\u001B[0m\u001B[1;33m.\u001B[0m\u001B[0mgetImageInBoundary\u001B[0m\u001B[1;33m(\u001B[0m\u001B[0mimage\u001B[0m\u001B[1;33m)\u001B[0m\u001B[1;33m\u001B[0m\u001B[1;33m\u001B[0m\u001B[0m\n\u001B[0m\u001B[0;32m     43\u001B[0m                 \u001B[0mline\u001B[0m\u001B[1;33m.\u001B[0m\u001B[0mappend\u001B[0m\u001B[1;33m(\u001B[0m\u001B[0mself\u001B[0m\u001B[1;33m.\u001B[0m\u001B[0mfilter\u001B[0m\u001B[1;33m(\u001B[0m\u001B[0mroi\u001B[0m\u001B[1;33m,\u001B[0m \u001B[0maxis\u001B[0m\u001B[1;33m)\u001B[0m\u001B[1;33m)\u001B[0m\u001B[1;33m\u001B[0m\u001B[1;33m\u001B[0m\u001B[0m\n\u001B[0;32m     44\u001B[0m \u001B[1;33m\u001B[0m\u001B[0m\n",
      "\u001B[1;32m<ipython-input-7-f4b4e103b656>\u001B[0m in \u001B[0;36mgetImageInBoundary\u001B[1;34m(self, image)\u001B[0m\n\u001B[0;32m     57\u001B[0m         \u001B[1;32mfor\u001B[0m \u001B[0mi\u001B[0m \u001B[1;32min\u001B[0m \u001B[0mrange\u001B[0m\u001B[1;33m(\u001B[0m\u001B[0mself\u001B[0m\u001B[1;33m.\u001B[0m\u001B[0mbot_right\u001B[0m\u001B[1;33m[\u001B[0m\u001B[1;36m1\u001B[0m\u001B[1;33m]\u001B[0m\u001B[1;33m)\u001B[0m\u001B[1;33m:\u001B[0m\u001B[1;33m\u001B[0m\u001B[1;33m\u001B[0m\u001B[0m\n\u001B[0;32m     58\u001B[0m             \u001B[0mnew_image\u001B[0m\u001B[1;33m.\u001B[0m\u001B[0mappend\u001B[0m\u001B[1;33m(\u001B[0m\u001B[0mimage\u001B[0m\u001B[1;33m[\u001B[0m\u001B[1;33m:\u001B[0m\u001B[0mself\u001B[0m\u001B[1;33m.\u001B[0m\u001B[0mtop_left\u001B[0m\u001B[1;33m[\u001B[0m\u001B[1;36m1\u001B[0m\u001B[1;33m]\u001B[0m \u001B[1;33m+\u001B[0m \u001B[0mi\u001B[0m \u001B[1;33m+\u001B[0m \u001B[1;36m1\u001B[0m\u001B[1;33m]\u001B[0m\u001B[1;33m[\u001B[0m\u001B[0mself\u001B[0m\u001B[1;33m.\u001B[0m\u001B[0mtop_left\u001B[0m\u001B[1;33m[\u001B[0m\u001B[1;36m1\u001B[0m\u001B[1;33m]\u001B[0m\u001B[1;33m]\u001B[0m\u001B[1;33m[\u001B[0m\u001B[0mself\u001B[0m\u001B[1;33m.\u001B[0m\u001B[0mtop_left\u001B[0m\u001B[1;33m[\u001B[0m\u001B[1;36m0\u001B[0m\u001B[1;33m]\u001B[0m\u001B[1;33m:\u001B[0m\u001B[0mself\u001B[0m\u001B[1;33m.\u001B[0m\u001B[0mbot_right\u001B[0m\u001B[1;33m[\u001B[0m\u001B[1;36m1\u001B[0m\u001B[1;33m]\u001B[0m\u001B[1;33m]\u001B[0m\u001B[1;33m)\u001B[0m\u001B[1;33m\u001B[0m\u001B[1;33m\u001B[0m\u001B[0m\n\u001B[1;32m---> 59\u001B[1;33m         \u001B[1;32mreturn\u001B[0m \u001B[0msafety\u001B[0m \u001B[1;33m+\u001B[0m \u001B[0mnp\u001B[0m\u001B[1;33m.\u001B[0m\u001B[0marray\u001B[0m\u001B[1;33m(\u001B[0m\u001B[0mnew_image\u001B[0m\u001B[1;33m)\u001B[0m\u001B[1;33m\u001B[0m\u001B[1;33m\u001B[0m\u001B[0m\n\u001B[0m\u001B[0;32m     60\u001B[0m \u001B[1;33m\u001B[0m\u001B[0m\n\u001B[0;32m     61\u001B[0m \u001B[1;33m\u001B[0m\u001B[0m\n",
      "\u001B[1;31mValueError\u001B[0m: operands could not be broadcast together with shapes (3,3) (3,2) "
     ]
    }
   ],
   "source": [
    "class Sobel(object):\n",
    "    def __init__(self, x=None, y=None):\n",
    "        self.x = np.array([[-1, 0, 1],\n",
    "                           [-2, 0, 2],\n",
    "                           [-1, 0, 1]]) \\\n",
    "                    if x is None else x\n",
    "        self.y = np.array([ [-1, -2, -1],\n",
    "                            [0, 0, 0],\n",
    "                            [1, 2, 1]]) \\\n",
    "                    if y is None else y\n",
    "\n",
    "    def filter(self, roi, axis=0):\n",
    "        \"\"\"\n",
    "        :param roi: image that will have the filter applied to it\n",
    "        :param axis: 0 is x, 1 is y\n",
    "        :return:\n",
    "        \"\"\"\n",
    "        kernel = self.x if axis == 0 else self.y\n",
    "\n",
    "        _filter = kernel * roi\n",
    "        sum_of_filter = _filter.sum()\n",
    "\n",
    "        return sum_of_filter\n",
    "\n",
    "    def filterImage(self, image, window=None, axis=0):\n",
    "        new_roi = []\n",
    "        line = []\n",
    "        if window is None:\n",
    "            # go over entire image\n",
    "            moving_kernel = Window(image, 3, 1)\n",
    "        else:\n",
    "            image = window.getImageInBoundary(image)\n",
    "            moving_kernel = Window(image, 3, window.stride[0])\n",
    "\n",
    "        new_tl, new_br = moving_kernel.forwardPos()\n",
    "        while moving_kernel.inBoundary(new_br):\n",
    "            if moving_kernel.changedY():\n",
    "                new_roi.append(line)\n",
    "                line = []\n",
    "            else:\n",
    "                roi = moving_kernel.getImageInBoundary(image)\n",
    "                line.append(self.filter(roi, axis))\n",
    "\n",
    "            moving_kernel.forwardMove()\n",
    "            new_tl, new_br = moving_kernel.forwardPos()\n",
    "\n",
    "        return np.array(new_roi)\n",
    "\n",
    "sobel = Sobel()\n",
    "\n",
    "win = Window(gray, 30, 1)\n",
    "\n",
    "image = gray.copy()\n",
    "roi = win.getImageInBoundary(image)\n",
    "cv2.imwrite(\"Output/roi_before_filter.png\", roi, [cv2.IMWRITE_PNG_COMPRESSION, 0])\n",
    "filtered = sobel.filterImage(image, win)\n",
    "cv2.imwrite(\"Output/roi_after_filter.png\", filtered, [cv2.IMWRITE_PNG_COMPRESSION, 0])\n",
    "#test = sobel.filter(image, win)"
   ],
   "metadata": {
    "collapsed": false,
    "pycharm": {
     "name": "#%%\n"
    }
   }
  },
  {
   "cell_type": "markdown",
   "source": [
    "# Exercise 3 - Convolution on the Whole Image"
   ],
   "metadata": {
    "collapsed": false
   }
  },
  {
   "cell_type": "code",
   "execution_count": null,
   "outputs": [],
   "source": [],
   "metadata": {
    "collapsed": false,
    "pycharm": {
     "name": "#%%\n"
    }
   }
  },
  {
   "cell_type": "markdown",
   "source": [
    "# Exercise 4 - Different Convolution Kernels"
   ],
   "metadata": {
    "collapsed": false
   }
  },
  {
   "cell_type": "code",
   "execution_count": null,
   "outputs": [],
   "source": [],
   "metadata": {
    "collapsed": false,
    "pycharm": {
     "name": "#%%\n"
    }
   }
  }
 ],
 "metadata": {
  "kernelspec": {
   "display_name": "Python 3",
   "language": "python",
   "name": "python3"
  },
  "language_info": {
   "codemirror_mode": {
    "name": "ipython",
    "version": 2
   },
   "file_extension": ".py",
   "mimetype": "text/x-python",
   "name": "python",
   "nbconvert_exporter": "python",
   "pygments_lexer": "ipython2",
   "version": "2.7.6"
  }
 },
 "nbformat": 4,
 "nbformat_minor": 0
}
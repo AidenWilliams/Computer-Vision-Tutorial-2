{
 "cells": [
  {
   "cell_type": "markdown",
   "metadata": {
    "collapsed": true,
    "pycharm": {
     "name": "#%% md\n"
    }
   },
   "source": [
    "# Area Processing (Tutorial 2)\n",
    "***\n",
    "# Table of Contents\n",
    "1.   [Imports](#Imports)\n",
    "2.   [Exercise 1 - Sliding Window](#Exercise-1---Sliding-Window)\n",
    "3.   [Exercise 2 - Convolution on RoI](#Exercise-2---Convolution-on-RoI)\n",
    "4.   [Exercise 3 - Convolution on the Whole Image](#Exercise-3---Convolution-on-the-Whole-Image)\n",
    "5.   [Exercise 4 - Different Convolution Kernels](#Exercise-4---Different-Convolution-Kernels)\n"
   ]
  },
  {
   "cell_type": "markdown",
   "source": [
    "# Imports\n",
    "\n",
    "Only 3 libraries are needed for this project:\n",
    "* opencv (cv2) - For image processing\n",
    "* numpy - For its arrays\n",
    "* matplotlib - Plotting histograms"
   ],
   "metadata": {
    "collapsed": false
   }
  },
  {
   "cell_type": "code",
   "execution_count": 1,
   "outputs": [],
   "source": [
    "\n",
    "import cv2\n",
    "import numpy as np\n",
    "from matplotlib import pyplot as plt\n"
   ],
   "metadata": {
    "collapsed": false,
    "pycharm": {
     "name": "#%%\n"
    }
   }
  },
  {
   "cell_type": "markdown",
   "source": [
    "# Exercise 1 - Sliding Window"
   ],
   "metadata": {
    "collapsed": false
   }
  },
  {
   "cell_type": "markdown",
   "source": [
    "### Code Explenation\n",
    "\n",
    "First I load in the image i will be using for this tutorial and apply a gray filter to it."
   ],
   "metadata": {
    "collapsed": false,
    "pycharm": {
     "name": "#%% md\n"
    }
   }
  },
  {
   "cell_type": "code",
   "execution_count": 2,
   "outputs": [],
   "source": [
    "original_image = cv2.imread(\"cursed.jpg\")\n",
    "height, width, _ = original_image.shape\n",
    "gray = cv2.cvtColor(original_image, cv2.COLOR_BGR2GRAY)"
   ],
   "metadata": {
    "collapsed": false,
    "pycharm": {
     "name": "#%%\n"
    }
   }
  },
  {
   "cell_type": "markdown",
   "source": [
    "### cursed.jpg\n",
    "\n",
    "The image I will be using for this lab is one of my failed attempts of creating a pie chart for one of my statistics units\n",
    "from last year. It features a sun like object in the centre with black lines coming out from the centre, it is coloured in\n",
    "full RGB while the background is gray.\n",
    "\n",
    "<img src=\"cursed.jpg\">"
   ],
   "metadata": {
    "collapsed": false
   }
  },
  {
   "cell_type": "code",
   "execution_count": 3,
   "outputs": [],
   "source": [
    "class Window(object):\n",
    "    def __init__(self, image, n, s):\n",
    "        self.x_boundary = image.shape[1] + n\n",
    "        self.y_boundary = image.shape[0] + s\n",
    "        self.top_left = (0, 0)\n",
    "        self.bot_right = (n, n)\n",
    "        self.height = n\n",
    "        self.stride = (s, s)\n",
    "\n",
    "    def forwardPos(self):\n",
    "        # Case when you need to go down and start new line\n",
    "        if (self.bot_right + self.stride)[0] >= (self.x_boundary - self.height):\n",
    "           # print(\"down\")\n",
    "            return (0, self.top_left[1] + self.stride[1]), (self.height, self.bot_right[1] + self.stride[1])\n",
    "        # generic move right case\n",
    "        else:\n",
    "            return (self.top_left[0] + self.stride[0], self.top_left[1]), (self.bot_right[0] + self.stride[0], self.bot_right[1])\n",
    "\n",
    "    def forwardMove(self):\n",
    "        self.top_left, self.bot_right = self.forwardPos()\n",
    "        return self.top_left, self.bot_right\n",
    "\n",
    "    def backwardPos(self):\n",
    "        # Case when you need to go up and go end of line\n",
    "        if (self.top_left - self.stride)[0] < 0:\n",
    "            return (self.x_boundary - self.height, self.top_left[1] - self.stride[1]), (self.x_boundary, self.bot_right[1] - self.stride[1])\n",
    "        # generic move left case\n",
    "        else:\n",
    "            return (self.top_left[0] - self.stride[0], self.top_left[1]), (self.bot_right[0] - self.stride[0], self.bot_right[1])\n",
    "\n",
    "    def backwardMove(self):\n",
    "        self.top_left, self.bot_right = self.backwardPos()\n",
    "        return self.top_left, self.bot_right\n",
    "\n",
    "    def inBoundary(self, new_top_left=None, new_bot_right=None):\n",
    "        if new_top_left is None:\n",
    "            new_top_left =  self.top_left\n",
    "        if new_bot_right is None:\n",
    "            new_bot_right =  self.bot_right\n",
    "\n",
    "        return  new_bot_right[0] <= self.x_boundary and new_bot_right[1] <= self.y_boundary and \\\n",
    "                new_top_left[0] >= 0 and new_top_left[1] >= 0\n",
    "\n",
    "    # add get image in boundary\n",
    "\n",
    "    def __str__(self):\n",
    "        return \"Top Left Corner \" + str(self.top_left) + \"\\nBot Right Corner \" + str(self.bot_right)\n",
    "\n",
    "    def getPos(self):\n",
    "        return self.top_left, self.bot_right"
   ],
   "metadata": {
    "collapsed": false,
    "pycharm": {
     "name": "#%%\n"
    }
   }
  },
  {
   "cell_type": "markdown",
   "source": [],
   "metadata": {
    "collapsed": false,
    "pycharm": {
     "name": "#%% md\n"
    }
   }
  },
  {
   "cell_type": "code",
   "execution_count": 4,
   "outputs": [],
   "source": [
    "%%capture\n",
    "win = Window(gray, 500, 100)\n",
    "start_point, end_point = win.getPos()\n",
    "\n",
    "# White\n",
    "color = (255, 255, 255)\n",
    "\n",
    "image = cv2.rectangle(gray.copy(), start_point, end_point, color)\n",
    "\n",
    "cv2.imwrite(\"Output/GrayWithRectangle.png\", image, [cv2.IMWRITE_PNG_COMPRESSION, 0])"
   ],
   "metadata": {
    "collapsed": false,
    "pycharm": {
     "name": "#%%\n"
    }
   }
  },
  {
   "cell_type": "markdown",
   "source": [],
   "metadata": {
    "collapsed": false
   }
  },
  {
   "cell_type": "code",
   "execution_count": 5,
   "outputs": [],
   "source": [
    "%%capture\n",
    "show = True\n",
    "\n",
    "new_tl, new_br = win.forwardPos()\n",
    "while win.inBoundary(new_br):\n",
    "    start_point, end_point = win.forwardMove()\n",
    "    image = cv2.rectangle(gray.copy(), start_point, end_point, (255, 255, 255))\n",
    "    if show:\n",
    "        cv2.imshow(\"Sliding Window\", image)\n",
    "        cv2.waitKey(int(1/35*1000))\n",
    "    new_tl, new_br = win.forwardPos()\n",
    "cv2.destroyAllWindows()\n",
    "cv2.imwrite(\"Output/LastPic.png\", image, [cv2.IMWRITE_PNG_COMPRESSION, 0])\n"
   ],
   "metadata": {
    "collapsed": false,
    "pycharm": {
     "name": "#%%\n"
    }
   }
  },
  {
   "cell_type": "markdown",
   "source": [
    "# Exercise 2 - Convolution on RoI"
   ],
   "metadata": {
    "collapsed": false
   }
  },
  {
   "cell_type": "code",
   "execution_count": 35,
   "outputs": [
    {
     "name": "stdout",
     "output_type": "stream",
     "text": [
      "(3, 3)\n",
      "(1080, 1920)\n"
     ]
    },
    {
     "ename": "NameError",
     "evalue": "name 'sum_of_filter' is not defined",
     "output_type": "error",
     "traceback": [
      "\u001B[1;31m---------------------------------------------------------------------------\u001B[0m",
      "\u001B[1;31mNameError\u001B[0m                                 Traceback (most recent call last)",
      "\u001B[1;32m<ipython-input-35-0f0485c2d16c>\u001B[0m in \u001B[0;36m<module>\u001B[1;34m\u001B[0m\n\u001B[0;32m     32\u001B[0m \u001B[1;33m\u001B[0m\u001B[0m\n\u001B[0;32m     33\u001B[0m \u001B[0mimage\u001B[0m \u001B[1;33m=\u001B[0m \u001B[0mgray\u001B[0m\u001B[1;33m.\u001B[0m\u001B[0mcopy\u001B[0m\u001B[1;33m(\u001B[0m\u001B[1;33m)\u001B[0m\u001B[1;33m\u001B[0m\u001B[1;33m\u001B[0m\u001B[0m\n\u001B[1;32m---> 34\u001B[1;33m \u001B[0mtest\u001B[0m \u001B[1;33m=\u001B[0m \u001B[0msobel\u001B[0m\u001B[1;33m.\u001B[0m\u001B[0mfilter\u001B[0m\u001B[1;33m(\u001B[0m\u001B[0mimage\u001B[0m\u001B[1;33m,\u001B[0m \u001B[0mwin\u001B[0m\u001B[1;33m)\u001B[0m\u001B[1;33m\u001B[0m\u001B[1;33m\u001B[0m\u001B[0m\n\u001B[0m",
      "\u001B[1;32m<ipython-input-35-0f0485c2d16c>\u001B[0m in \u001B[0;36mfilter\u001B[1;34m(self, image, axis)\u001B[0m\n\u001B[0;32m     26\u001B[0m         \u001B[1;31m# sum_of_filter = _filter.sum()\u001B[0m\u001B[1;33m\u001B[0m\u001B[1;33m\u001B[0m\u001B[1;33m\u001B[0m\u001B[0m\n\u001B[0;32m     27\u001B[0m \u001B[1;33m\u001B[0m\u001B[0m\n\u001B[1;32m---> 28\u001B[1;33m         \u001B[1;32mreturn\u001B[0m \u001B[0msum_of_filter\u001B[0m\u001B[1;33m\u001B[0m\u001B[1;33m\u001B[0m\u001B[0m\n\u001B[0m\u001B[0;32m     29\u001B[0m \u001B[0msobel\u001B[0m \u001B[1;33m=\u001B[0m \u001B[0mSobel\u001B[0m\u001B[1;33m(\u001B[0m\u001B[1;33m)\u001B[0m\u001B[1;33m\u001B[0m\u001B[1;33m\u001B[0m\u001B[0m\n\u001B[0;32m     30\u001B[0m \u001B[1;33m\u001B[0m\u001B[0m\n",
      "\u001B[1;31mNameError\u001B[0m: name 'sum_of_filter' is not defined"
     ]
    }
   ],
   "source": [
    "class Sobel(object):\n",
    "    def __init__(self, x=None, y=None):\n",
    "        self.x = np.array([[-1, 0, 1],\n",
    "                           [-2, 0, 2],\n",
    "                           [-1, 0, 1]]) \\\n",
    "                    if x is None else x\n",
    "        self.y = np.array([ [-1, -2, -1],\n",
    "                            [0, 0, 0],\n",
    "                            [1, 2, 1]]) \\\n",
    "                    if y is None else y\n",
    "\n",
    "    def filter(self, image, window, axis=0):\n",
    "        \"\"\"\n",
    "        :param image: image that will have the filter applied to it\n",
    "        :param axis: 0 is x, 1 is y\n",
    "        :return:\n",
    "        \"\"\"\n",
    "        kernel = self.x if axis == 0 else self.y\n",
    "        roi_a = []\n",
    "        for i in range(window.bot_right[1]):\n",
    "            roi_a.append(image[:window.top_left[1] + i + 1][window.top_left[1]][window.top_left[0]:window.bot_right[1]])\n",
    "        roi = np.array(roi_a)\n",
    "        _filter = kernel * roi\n",
    "        sum_of_filter = _filter.sum()\n",
    "\n",
    "        return sum_of_filter\n",
    "sobel = Sobel()\n",
    "\n",
    "win = Window(gray, 3, 1)\n",
    "\n",
    "image = gray.copy()\n",
    "test = sobel.filter(image, win)"
   ],
   "metadata": {
    "collapsed": false,
    "pycharm": {
     "name": "#%%\n"
    }
   }
  },
  {
   "cell_type": "markdown",
   "source": [
    "# Exercise 3 - Convolution on the Whole Image"
   ],
   "metadata": {
    "collapsed": false
   }
  },
  {
   "cell_type": "code",
   "execution_count": 6,
   "outputs": [],
   "source": [],
   "metadata": {
    "collapsed": false,
    "pycharm": {
     "name": "#%%\n"
    }
   }
  },
  {
   "cell_type": "markdown",
   "source": [
    "# Exercise 4 - Different Convolution Kernels"
   ],
   "metadata": {
    "collapsed": false
   }
  },
  {
   "cell_type": "code",
   "execution_count": 6,
   "outputs": [],
   "source": [],
   "metadata": {
    "collapsed": false,
    "pycharm": {
     "name": "#%%\n"
    }
   }
  }
 ],
 "metadata": {
  "kernelspec": {
   "display_name": "Python 3",
   "language": "python",
   "name": "python3"
  },
  "language_info": {
   "codemirror_mode": {
    "name": "ipython",
    "version": 2
   },
   "file_extension": ".py",
   "mimetype": "text/x-python",
   "name": "python",
   "nbconvert_exporter": "python",
   "pygments_lexer": "ipython2",
   "version": "2.7.6"
  }
 },
 "nbformat": 4,
 "nbformat_minor": 0
}
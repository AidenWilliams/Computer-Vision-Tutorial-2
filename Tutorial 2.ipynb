{
 "cells": [
  {
   "cell_type": "markdown",
   "metadata": {
    "collapsed": true,
    "pycharm": {
     "name": "#%% md\n"
    }
   },
   "source": [
    "# Area Processing (Tutorial 2)\n",
    "***\n",
    "# Table of Contents\n",
    "1.   [Imports](#Imports)\n",
    "2.   [Exercise 1 - Sliding Window](#Exercise-1---Sliding-Window)\n",
    "3.   [Exercise 2 - Convolution on RoI](#Exercise-2---Convolution-on-RoI)\n",
    "4.   [Exercise 3 - Convolution on the Whole Image](#Exercise-3---Convolution-on-the-Whole-Image)\n",
    "5.   [Exercise 4 - Different Convolution Kernels](#Exercise-4---Different-Convolution-Kernels)\n"
   ]
  },
  {
   "cell_type": "markdown",
   "source": [
    "# Imports\n",
    "\n",
    "Only 3 libraries are needed for this project:\n",
    "* opencv (cv2) - For image processing\n",
    "* numpy - For its arrays\n",
    "* matplotlib - Plotting histograms"
   ],
   "metadata": {
    "collapsed": false
   }
  },
  {
   "cell_type": "code",
   "execution_count": 1,
   "outputs": [],
   "source": [
    "\n",
    "import cv2\n",
    "import numpy as np\n",
    "from matplotlib import pyplot as plt"
   ],
   "metadata": {
    "collapsed": false,
    "pycharm": {
     "name": "#%%\n"
    }
   }
  },
  {
   "cell_type": "markdown",
   "source": [
    "# Exercise 1 - Sliding Window"
   ],
   "metadata": {
    "collapsed": false
   }
  },
  {
   "cell_type": "markdown",
   "source": [
    "### Code Explenation\n",
    "\n",
    "First I load in the image i will be using for this tutorial and apply a gray filter to it."
   ],
   "metadata": {
    "collapsed": false,
    "pycharm": {
     "name": "#%% md\n"
    }
   }
  },
  {
   "cell_type": "code",
   "execution_count": 2,
   "outputs": [],
   "source": [
    "original_image = cv2.imread(\"cursed.jpg\")\n",
    "height, width, _ = original_image.shape\n",
    "gray = cv2.cvtColor(original_image, cv2.COLOR_BGR2GRAY)"
   ],
   "metadata": {
    "collapsed": false,
    "pycharm": {
     "name": "#%%\n"
    }
   }
  },
  {
   "cell_type": "markdown",
   "source": [
    "### cursed.jpg\n",
    "\n",
    "The image I will be using for this lab is one of my failed attempts of creating a pie chart for one of my statistics units\n",
    "from last year. It features a sun like object in the centre with black lines coming out from the centre, it is coloured in\n",
    "full RGB while the background is gray.\n",
    "\n",
    "<img src=\"cursed.jpg\">"
   ],
   "metadata": {
    "collapsed": false
   }
  },
  {
   "cell_type": "code",
   "execution_count": 3,
   "outputs": [],
   "source": [
    "class Window(object):\n",
    "    def __init__(self, image, n, s):\n",
    "        # make s can be tuple\n",
    "        self.x_boundary = image.shape[1] + n\n",
    "        self.y_boundary = image.shape[0] + s\n",
    "        self.top_left = (0, 0)\n",
    "        self.bot_right = (n, n)\n",
    "        self.previousBotY = n\n",
    "        self.height = n\n",
    "        self.stride = (s, s)\n",
    "\n",
    "    def forwardPos(self):\n",
    "        # Case when you need to go down and start new line\n",
    "        if (self.bot_right + self.stride)[0] >= (self.x_boundary - self.height):\n",
    "           # print(\"down\")\n",
    "            return (0, self.top_left[1] + self.stride[1]), (self.height, self.bot_right[1] + self.stride[1])\n",
    "        # generic move right case\n",
    "        else:\n",
    "            return (self.top_left[0] + self.stride[0], self.top_left[1]), (self.bot_right[0] + self.stride[0], self.bot_right[1])\n",
    "\n",
    "    def forwardMove(self):\n",
    "        self.top_left, self.bot_right = self.forwardPos()\n",
    "        return self.top_left, self.bot_right\n",
    "\n",
    "    def backwardPos(self):\n",
    "        # Case when you need to go up and go end of line\n",
    "        if (self.top_left - self.stride)[0] < 0:\n",
    "            return (self.x_boundary - self.height, self.top_left[1] - self.stride[1]), (self.x_boundary, self.bot_right[1] - self.stride[1])\n",
    "        # generic move left case\n",
    "        else:\n",
    "            return (self.top_left[0] - self.stride[0], self.top_left[1]), (self.bot_right[0] - self.stride[0], self.bot_right[1])\n",
    "\n",
    "    def backwardMove(self):\n",
    "        self.top_left, self.bot_right = self.backwardPos()\n",
    "        return self.top_left, self.bot_right\n",
    "\n",
    "    def inBoundary(self, new_top_left=None, new_bot_right=None):\n",
    "        if new_top_left is None:\n",
    "            new_top_left =  self.top_left\n",
    "        if new_bot_right is None:\n",
    "            new_bot_right =  self.bot_right\n",
    "\n",
    "        return  new_bot_right[0] <= self.x_boundary and new_bot_right[1] <= self.y_boundary and \\\n",
    "                new_top_left[0] >= 0 and new_top_left[1] >= 0\n",
    "\n",
    "    def changedY(self):\n",
    "        if self.previousBotY == self.bot_right[1]:\n",
    "            return False\n",
    "        else:\n",
    "            self.previousBotY = self.bot_right[1]\n",
    "            return True\n",
    "\n",
    "    # add get image in boundary\n",
    "    def getImageInBoundary(self, image):\n",
    "        new_image = []\n",
    "        for i in range(self.bot_right[1]):\n",
    "            new_image.append(image[:self.top_left[1] + i + 1][self.top_left[1]][self.top_left[0]:self.bot_right[1]])\n",
    "        # see how to add 2 different shapes with numpy\n",
    "        return np.resize(np.array(new_image), (self.height, self.height))\n",
    "\n",
    "\n",
    "    def __str__(self):\n",
    "        return \"Top Left Corner \" + str(self.top_left) + \"\\nBot Right Corner \" + str(self.bot_right)\n",
    "\n",
    "    def getPos(self):\n",
    "        return self.top_left, self.bot_right"
   ],
   "metadata": {
    "collapsed": false,
    "pycharm": {
     "name": "#%%\n"
    }
   }
  },
  {
   "cell_type": "markdown",
   "source": [],
   "metadata": {
    "collapsed": false,
    "pycharm": {
     "name": "#%% md\n"
    }
   }
  },
  {
   "cell_type": "code",
   "execution_count": 4,
   "outputs": [],
   "source": [
    "%%capture\n",
    "win = Window(gray, 500, 100)\n",
    "start_point, end_point = win.getPos()\n",
    "\n",
    "# White\n",
    "color = (255, 255, 255)\n",
    "\n",
    "image = cv2.rectangle(gray.copy(), start_point, end_point, color)\n",
    "\n",
    "cv2.imwrite(\"Output/GrayWithRectangle.png\", image, [cv2.IMWRITE_PNG_COMPRESSION, 0])\n",
    "image2 = win.getImageInBoundary(gray)\n",
    "cv2.imwrite(\"Output/ROI.png\", image2, [cv2.IMWRITE_PNG_COMPRESSION, 0])"
   ],
   "metadata": {
    "collapsed": false,
    "pycharm": {
     "name": "#%%\n"
    }
   }
  },
  {
   "cell_type": "markdown",
   "source": [],
   "metadata": {
    "collapsed": false
   }
  },
  {
   "cell_type": "code",
   "execution_count": 5,
   "outputs": [],
   "source": [
    "%%capture\n",
    "show = False\n",
    "\n",
    "new_tl, new_br = win.forwardPos()\n",
    "while win.inBoundary(new_br):\n",
    "    image = cv2.rectangle(gray.copy(), start_point, end_point, (255, 255, 255))\n",
    "    if show:\n",
    "        cv2.imshow(\"Sliding Window\", image)\n",
    "        cv2.waitKey(int(1/35*1000))\n",
    "    start_point, end_point = win.forwardMove()\n",
    "    new_tl, new_br = win.forwardPos()\n",
    "cv2.destroyAllWindows()\n",
    "cv2.imwrite(\"Output/LastPic.png\", image, [cv2.IMWRITE_PNG_COMPRESSION, 0])\n"
   ],
   "metadata": {
    "collapsed": false,
    "pycharm": {
     "name": "#%%\n"
    }
   }
  },
  {
   "cell_type": "markdown",
   "source": [
    "# Exercise 2 - Convolution on RoI"
   ],
   "metadata": {
    "collapsed": false
   }
  },
  {
   "cell_type": "code",
   "execution_count": 6,
   "outputs": [
    {
     "ename": "KeyboardInterrupt",
     "evalue": "",
     "output_type": "error",
     "traceback": [
      "\u001B[1;31m---------------------------------------------------------------------------\u001B[0m",
      "\u001B[1;31mKeyboardInterrupt\u001B[0m                         Traceback (most recent call last)",
      "\u001B[1;32m<ipython-input-6-db0116252ca4>\u001B[0m in \u001B[0;36m<module>\u001B[1;34m\u001B[0m\n\u001B[0;32m     59\u001B[0m \u001B[1;33m\u001B[0m\u001B[0m\n\u001B[0;32m     60\u001B[0m \u001B[0mimage\u001B[0m \u001B[1;33m=\u001B[0m \u001B[0mgray\u001B[0m\u001B[1;33m.\u001B[0m\u001B[0mcopy\u001B[0m\u001B[1;33m(\u001B[0m\u001B[1;33m)\u001B[0m\u001B[1;33m\u001B[0m\u001B[1;33m\u001B[0m\u001B[0m\n\u001B[1;32m---> 61\u001B[1;33m \u001B[0mfiltered\u001B[0m \u001B[1;33m=\u001B[0m \u001B[0msobel\u001B[0m\u001B[1;33m.\u001B[0m\u001B[0mfilterImage\u001B[0m\u001B[1;33m(\u001B[0m\u001B[0mimage\u001B[0m\u001B[1;33m)\u001B[0m\u001B[1;33m\u001B[0m\u001B[1;33m\u001B[0m\u001B[0m\n\u001B[0m\u001B[0;32m     62\u001B[0m \u001B[0mcv2\u001B[0m\u001B[1;33m.\u001B[0m\u001B[0mimwrite\u001B[0m\u001B[1;33m(\u001B[0m\u001B[1;34m\"Output/image_after_filter.png\"\u001B[0m\u001B[1;33m,\u001B[0m \u001B[0mfiltered\u001B[0m\u001B[1;33m,\u001B[0m \u001B[1;33m[\u001B[0m\u001B[0mcv2\u001B[0m\u001B[1;33m.\u001B[0m\u001B[0mIMWRITE_PNG_COMPRESSION\u001B[0m\u001B[1;33m,\u001B[0m \u001B[1;36m0\u001B[0m\u001B[1;33m]\u001B[0m\u001B[1;33m)\u001B[0m\u001B[1;33m\u001B[0m\u001B[1;33m\u001B[0m\u001B[0m\n\u001B[0;32m     63\u001B[0m \u001B[1;33m\u001B[0m\u001B[0m\n",
      "\u001B[1;32m<ipython-input-6-db0116252ca4>\u001B[0m in \u001B[0;36mfilterImage\u001B[1;34m(self, image, window, axis)\u001B[0m\n\u001B[0;32m     38\u001B[0m             \u001B[0mroi\u001B[0m \u001B[1;33m=\u001B[0m \u001B[0mmoving_kernel\u001B[0m\u001B[1;33m.\u001B[0m\u001B[0mgetImageInBoundary\u001B[0m\u001B[1;33m(\u001B[0m\u001B[0mimage\u001B[0m\u001B[1;33m)\u001B[0m\u001B[1;33m\u001B[0m\u001B[1;33m\u001B[0m\u001B[0m\n\u001B[0;32m     39\u001B[0m             \u001B[1;32mif\u001B[0m \u001B[0mmoving_kernel\u001B[0m\u001B[1;33m.\u001B[0m\u001B[0mchangedY\u001B[0m\u001B[1;33m(\u001B[0m\u001B[1;33m)\u001B[0m\u001B[1;33m:\u001B[0m\u001B[1;33m\u001B[0m\u001B[1;33m\u001B[0m\u001B[0m\n\u001B[1;32m---> 40\u001B[1;33m                 \u001B[0mnew_roi\u001B[0m\u001B[1;33m.\u001B[0m\u001B[0mappend\u001B[0m\u001B[1;33m(\u001B[0m\u001B[0mline\u001B[0m\u001B[1;33m)\u001B[0m\u001B[1;33m\u001B[0m\u001B[1;33m\u001B[0m\u001B[0m\n\u001B[0m\u001B[0;32m     41\u001B[0m                 \u001B[0mline\u001B[0m \u001B[1;33m=\u001B[0m \u001B[1;33m[\u001B[0m\u001B[1;33m]\u001B[0m\u001B[1;33m\u001B[0m\u001B[1;33m\u001B[0m\u001B[0m\n\u001B[0;32m     42\u001B[0m \u001B[1;33m\u001B[0m\u001B[0m\n",
      "\u001B[1;32m<ipython-input-6-db0116252ca4>\u001B[0m in \u001B[0;36mfilterImage\u001B[1;34m(self, image, window, axis)\u001B[0m\n\u001B[0;32m     38\u001B[0m             \u001B[0mroi\u001B[0m \u001B[1;33m=\u001B[0m \u001B[0mmoving_kernel\u001B[0m\u001B[1;33m.\u001B[0m\u001B[0mgetImageInBoundary\u001B[0m\u001B[1;33m(\u001B[0m\u001B[0mimage\u001B[0m\u001B[1;33m)\u001B[0m\u001B[1;33m\u001B[0m\u001B[1;33m\u001B[0m\u001B[0m\n\u001B[0;32m     39\u001B[0m             \u001B[1;32mif\u001B[0m \u001B[0mmoving_kernel\u001B[0m\u001B[1;33m.\u001B[0m\u001B[0mchangedY\u001B[0m\u001B[1;33m(\u001B[0m\u001B[1;33m)\u001B[0m\u001B[1;33m:\u001B[0m\u001B[1;33m\u001B[0m\u001B[1;33m\u001B[0m\u001B[0m\n\u001B[1;32m---> 40\u001B[1;33m                 \u001B[0mnew_roi\u001B[0m\u001B[1;33m.\u001B[0m\u001B[0mappend\u001B[0m\u001B[1;33m(\u001B[0m\u001B[0mline\u001B[0m\u001B[1;33m)\u001B[0m\u001B[1;33m\u001B[0m\u001B[1;33m\u001B[0m\u001B[0m\n\u001B[0m\u001B[0;32m     41\u001B[0m                 \u001B[0mline\u001B[0m \u001B[1;33m=\u001B[0m \u001B[1;33m[\u001B[0m\u001B[1;33m]\u001B[0m\u001B[1;33m\u001B[0m\u001B[1;33m\u001B[0m\u001B[0m\n\u001B[0;32m     42\u001B[0m \u001B[1;33m\u001B[0m\u001B[0m\n",
      "\u001B[1;32m_pydevd_bundle\\pydevd_cython_win32_38_64.pyx\u001B[0m in \u001B[0;36m_pydevd_bundle.pydevd_cython_win32_38_64.SafeCallWrapper.__call__\u001B[1;34m()\u001B[0m\n",
      "\u001B[1;32m_pydevd_bundle\\pydevd_cython_win32_38_64.pyx\u001B[0m in \u001B[0;36m_pydevd_bundle.pydevd_cython_win32_38_64.PyDBFrame.trace_dispatch\u001B[1;34m()\u001B[0m\n",
      "\u001B[1;32m_pydevd_bundle\\pydevd_cython_win32_38_64.pyx\u001B[0m in \u001B[0;36m_pydevd_bundle.pydevd_cython_win32_38_64.PyDBFrame.trace_dispatch\u001B[1;34m()\u001B[0m\n",
      "\u001B[1;32m_pydevd_bundle\\pydevd_cython_win32_38_64.pyx\u001B[0m in \u001B[0;36m_pydevd_bundle.pydevd_cython_win32_38_64.PyDBFrame.trace_dispatch\u001B[1;34m()\u001B[0m\n",
      "\u001B[1;32m_pydevd_bundle\\pydevd_cython_win32_38_64.pyx\u001B[0m in \u001B[0;36m_pydevd_bundle.pydevd_cython_win32_38_64.PyDBFrame.do_wait_suspend\u001B[1;34m()\u001B[0m\n",
      "\u001B[1;32m~\\AppData\\Local\\JetBrains\\Toolbox\\apps\\PyCharm-P\\ch-0\\201.7223.92\\plugins\\python\\helpers\\pydev\\pydevd.py\u001B[0m in \u001B[0;36mdo_wait_suspend\u001B[1;34m(self, thread, frame, event, arg, send_suspend_message, is_unhandled_exception)\u001B[0m\n\u001B[0;32m   1101\u001B[0m \u001B[1;33m\u001B[0m\u001B[0m\n\u001B[0;32m   1102\u001B[0m         \u001B[1;32mwith\u001B[0m \u001B[0mself\u001B[0m\u001B[1;33m.\u001B[0m\u001B[0m_threads_suspended_single_notification\u001B[0m\u001B[1;33m.\u001B[0m\u001B[0mnotify_thread_suspended\u001B[0m\u001B[1;33m(\u001B[0m\u001B[0mthread_id\u001B[0m\u001B[1;33m,\u001B[0m \u001B[0mstop_reason\u001B[0m\u001B[1;33m)\u001B[0m\u001B[1;33m:\u001B[0m\u001B[1;33m\u001B[0m\u001B[1;33m\u001B[0m\u001B[0m\n\u001B[1;32m-> 1103\u001B[1;33m             \u001B[0mself\u001B[0m\u001B[1;33m.\u001B[0m\u001B[0m_do_wait_suspend\u001B[0m\u001B[1;33m(\u001B[0m\u001B[0mthread\u001B[0m\u001B[1;33m,\u001B[0m \u001B[0mframe\u001B[0m\u001B[1;33m,\u001B[0m \u001B[0mevent\u001B[0m\u001B[1;33m,\u001B[0m \u001B[0marg\u001B[0m\u001B[1;33m,\u001B[0m \u001B[0msuspend_type\u001B[0m\u001B[1;33m,\u001B[0m \u001B[0mfrom_this_thread\u001B[0m\u001B[1;33m)\u001B[0m\u001B[1;33m\u001B[0m\u001B[1;33m\u001B[0m\u001B[0m\n\u001B[0m\u001B[0;32m   1104\u001B[0m \u001B[1;33m\u001B[0m\u001B[0m\n\u001B[0;32m   1105\u001B[0m     \u001B[1;32mdef\u001B[0m \u001B[0m_do_wait_suspend\u001B[0m\u001B[1;33m(\u001B[0m\u001B[0mself\u001B[0m\u001B[1;33m,\u001B[0m \u001B[0mthread\u001B[0m\u001B[1;33m,\u001B[0m \u001B[0mframe\u001B[0m\u001B[1;33m,\u001B[0m \u001B[0mevent\u001B[0m\u001B[1;33m,\u001B[0m \u001B[0marg\u001B[0m\u001B[1;33m,\u001B[0m \u001B[0msuspend_type\u001B[0m\u001B[1;33m,\u001B[0m \u001B[0mfrom_this_thread\u001B[0m\u001B[1;33m)\u001B[0m\u001B[1;33m:\u001B[0m\u001B[1;33m\u001B[0m\u001B[1;33m\u001B[0m\u001B[0m\n",
      "\u001B[1;32m~\\AppData\\Local\\JetBrains\\Toolbox\\apps\\PyCharm-P\\ch-0\\201.7223.92\\plugins\\python\\helpers\\pydev\\pydevd.py\u001B[0m in \u001B[0;36m_do_wait_suspend\u001B[1;34m(self, thread, frame, event, arg, suspend_type, from_this_thread)\u001B[0m\n\u001B[0;32m   1116\u001B[0m \u001B[1;33m\u001B[0m\u001B[0m\n\u001B[0;32m   1117\u001B[0m                 \u001B[0mself\u001B[0m\u001B[1;33m.\u001B[0m\u001B[0mprocess_internal_commands\u001B[0m\u001B[1;33m(\u001B[0m\u001B[1;33m)\u001B[0m\u001B[1;33m\u001B[0m\u001B[1;33m\u001B[0m\u001B[0m\n\u001B[1;32m-> 1118\u001B[1;33m                 \u001B[0mtime\u001B[0m\u001B[1;33m.\u001B[0m\u001B[0msleep\u001B[0m\u001B[1;33m(\u001B[0m\u001B[1;36m0.01\u001B[0m\u001B[1;33m)\u001B[0m\u001B[1;33m\u001B[0m\u001B[1;33m\u001B[0m\u001B[0m\n\u001B[0m\u001B[0;32m   1119\u001B[0m \u001B[1;33m\u001B[0m\u001B[0m\n\u001B[0;32m   1120\u001B[0m         \u001B[0mself\u001B[0m\u001B[1;33m.\u001B[0m\u001B[0mcancel_async_evaluation\u001B[0m\u001B[1;33m(\u001B[0m\u001B[0mget_current_thread_id\u001B[0m\u001B[1;33m(\u001B[0m\u001B[0mthread\u001B[0m\u001B[1;33m)\u001B[0m\u001B[1;33m,\u001B[0m \u001B[0mstr\u001B[0m\u001B[1;33m(\u001B[0m\u001B[0mid\u001B[0m\u001B[1;33m(\u001B[0m\u001B[0mframe\u001B[0m\u001B[1;33m)\u001B[0m\u001B[1;33m)\u001B[0m\u001B[1;33m)\u001B[0m\u001B[1;33m\u001B[0m\u001B[1;33m\u001B[0m\u001B[0m\n",
      "\u001B[1;31mKeyboardInterrupt\u001B[0m: "
     ]
    }
   ],
   "source": [
    "class Sobel(object):\n",
    "    def __init__(self, x=None, y=None):\n",
    "        self.x = np.array([[-1, 0, 1],\n",
    "                           [-2, 0, 2],\n",
    "                           [-1, 0, 1]]) \\\n",
    "                    if x is None else x\n",
    "        self.y = np.array([ [-1, -2, -1],\n",
    "                            [0, 0, 0],\n",
    "                            [1, 2, 1]]) \\\n",
    "                    if y is None else y\n",
    "\n",
    "    def filter(self, roi, axis=0):\n",
    "        \"\"\"\n",
    "        :param roi: image that will have the filter applied to it\n",
    "        :param axis: 0 is x, 1 is y\n",
    "        :return:\n",
    "        \"\"\"\n",
    "        kernel = self.x if axis == 0 else self.y\n",
    "\n",
    "        _filter = kernel * roi\n",
    "        sum_of_filter = _filter.sum()\n",
    "\n",
    "        return sum_of_filter\n",
    "\n",
    "    def filterImage(self, image, window=None, axis=0):\n",
    "        new_roi = []\n",
    "        line = []\n",
    "        if window is None:\n",
    "            # go over entire image\n",
    "            moving_kernel = Window(image, 3, 1)\n",
    "        else:\n",
    "            image = window.getImageInBoundary(image)\n",
    "            moving_kernel = Window(image, 3, window.stride[0])\n",
    "\n",
    "        new_tl, new_br = moving_kernel.forwardPos()\n",
    "        while moving_kernel.inBoundary(new_br):\n",
    "            roi = moving_kernel.getImageInBoundary(image)\n",
    "            if moving_kernel.changedY():\n",
    "                new_roi.append(line)\n",
    "                line = []\n",
    "\n",
    "            line.append(self.filter(roi, axis))\n",
    "\n",
    "            moving_kernel.forwardMove()\n",
    "            new_tl, new_br = moving_kernel.forwardPos()\n",
    "\n",
    "        return np.array(new_roi)\n",
    "\n",
    "sobel = Sobel()\n",
    "\n",
    "win = Window(gray, 30, 1)\n",
    "\n",
    "image = gray.copy()\n",
    "roi = win.getImageInBoundary(image)\n",
    "cv2.imwrite(\"Output/roi_before_filter.png\", roi, [cv2.IMWRITE_PNG_COMPRESSION, 0])\n",
    "filtered = sobel.filterImage(image, win)\n",
    "cv2.imwrite(\"Output/roi_after_filter.png\", filtered, [cv2.IMWRITE_PNG_COMPRESSION, 0])\n"
   ],
   "metadata": {
    "collapsed": false,
    "pycharm": {
     "name": "#%%\n"
    }
   }
  },
  {
   "cell_type": "markdown",
   "source": [
    "# Exercise 3 - Convolution on the Whole Image"
   ],
   "metadata": {
    "collapsed": false
   }
  },
  {
   "cell_type": "code",
   "execution_count": 7,
   "outputs": [
    {
     "ename": "KeyboardInterrupt",
     "evalue": "",
     "output_type": "error",
     "traceback": [
      "\u001B[1;31m---------------------------------------------------------------------------\u001B[0m",
      "\u001B[1;31mKeyboardInterrupt\u001B[0m                         Traceback (most recent call last)",
      "\u001B[1;32m<ipython-input-7-4d35fef0d24f>\u001B[0m in \u001B[0;36m<module>\u001B[1;34m\u001B[0m\n\u001B[0;32m      1\u001B[0m \u001B[0mimage\u001B[0m \u001B[1;33m=\u001B[0m \u001B[0mgray\u001B[0m\u001B[1;33m.\u001B[0m\u001B[0mcopy\u001B[0m\u001B[1;33m(\u001B[0m\u001B[1;33m)\u001B[0m\u001B[1;33m\u001B[0m\u001B[1;33m\u001B[0m\u001B[0m\n\u001B[1;32m----> 2\u001B[1;33m \u001B[0mfiltered\u001B[0m \u001B[1;33m=\u001B[0m \u001B[0msobel\u001B[0m\u001B[1;33m.\u001B[0m\u001B[0mfilterImage\u001B[0m\u001B[1;33m(\u001B[0m\u001B[0mimage\u001B[0m\u001B[1;33m)\u001B[0m\u001B[1;33m\u001B[0m\u001B[1;33m\u001B[0m\u001B[0m\n\u001B[0m\u001B[0;32m      3\u001B[0m \u001B[0mcv2\u001B[0m\u001B[1;33m.\u001B[0m\u001B[0mimwrite\u001B[0m\u001B[1;33m(\u001B[0m\u001B[1;34m\"Output/image_after_filter.png\"\u001B[0m\u001B[1;33m,\u001B[0m \u001B[0mfiltered\u001B[0m\u001B[1;33m,\u001B[0m \u001B[1;33m[\u001B[0m\u001B[0mcv2\u001B[0m\u001B[1;33m.\u001B[0m\u001B[0mIMWRITE_PNG_COMPRESSION\u001B[0m\u001B[1;33m,\u001B[0m \u001B[1;36m0\u001B[0m\u001B[1;33m]\u001B[0m\u001B[1;33m)\u001B[0m\u001B[1;33m\u001B[0m\u001B[1;33m\u001B[0m\u001B[0m\n\u001B[0;32m      4\u001B[0m \u001B[1;33m\u001B[0m\u001B[0m\n",
      "\u001B[1;32m<ipython-input-6-b635e53b5483>\u001B[0m in \u001B[0;36mfilterImage\u001B[1;34m(self, image, window, axis)\u001B[0m\n\u001B[0;32m     40\u001B[0m                 \u001B[0mline\u001B[0m\u001B[1;33m.\u001B[0m\u001B[0mappend\u001B[0m\u001B[1;33m(\u001B[0m\u001B[0mself\u001B[0m\u001B[1;33m.\u001B[0m\u001B[0mfilter\u001B[0m\u001B[1;33m(\u001B[0m\u001B[0mroi\u001B[0m\u001B[1;33m,\u001B[0m \u001B[0maxis\u001B[0m\u001B[1;33m)\u001B[0m\u001B[1;33m)\u001B[0m\u001B[1;33m\u001B[0m\u001B[1;33m\u001B[0m\u001B[0m\n\u001B[0;32m     41\u001B[0m             \u001B[1;32melse\u001B[0m\u001B[1;33m:\u001B[0m\u001B[1;33m\u001B[0m\u001B[1;33m\u001B[0m\u001B[0m\n\u001B[1;32m---> 42\u001B[1;33m                 \u001B[0mroi\u001B[0m \u001B[1;33m=\u001B[0m \u001B[0mmoving_kernel\u001B[0m\u001B[1;33m.\u001B[0m\u001B[0mgetImageInBoundary\u001B[0m\u001B[1;33m(\u001B[0m\u001B[0mimage\u001B[0m\u001B[1;33m)\u001B[0m\u001B[1;33m\u001B[0m\u001B[1;33m\u001B[0m\u001B[0m\n\u001B[0m\u001B[0;32m     43\u001B[0m                 \u001B[0mline\u001B[0m\u001B[1;33m.\u001B[0m\u001B[0mappend\u001B[0m\u001B[1;33m(\u001B[0m\u001B[0mself\u001B[0m\u001B[1;33m.\u001B[0m\u001B[0mfilter\u001B[0m\u001B[1;33m(\u001B[0m\u001B[0mroi\u001B[0m\u001B[1;33m,\u001B[0m \u001B[0maxis\u001B[0m\u001B[1;33m)\u001B[0m\u001B[1;33m)\u001B[0m\u001B[1;33m\u001B[0m\u001B[1;33m\u001B[0m\u001B[0m\n\u001B[0;32m     44\u001B[0m \u001B[1;33m\u001B[0m\u001B[0m\n",
      "\u001B[1;31mKeyboardInterrupt\u001B[0m: "
     ]
    }
   ],
   "source": [
    "\n",
    "image = gray.copy()\n",
    "filtered = sobel.filterImage(image)\n",
    "cv2.imwrite(\"Output/image_after_filter.png\", filtered, [cv2.IMWRITE_PNG_COMPRESSION, 0])"
   ],
   "metadata": {
    "collapsed": false,
    "pycharm": {
     "name": "#%%\n"
    }
   }
  },
  {
   "cell_type": "markdown",
   "source": [
    "# Exercise 4 - Different Convolution Kernels"
   ],
   "metadata": {
    "collapsed": false
   }
  },
  {
   "cell_type": "code",
   "execution_count": 6,
   "outputs": [],
   "source": [],
   "metadata": {
    "collapsed": false,
    "pycharm": {
     "name": "#%%\n"
    }
   }
  }
 ],
 "metadata": {
  "kernelspec": {
   "display_name": "Python 3",
   "language": "python",
   "name": "python3"
  },
  "language_info": {
   "codemirror_mode": {
    "name": "ipython",
    "version": 2
   },
   "file_extension": ".py",
   "mimetype": "text/x-python",
   "name": "python",
   "nbconvert_exporter": "python",
   "pygments_lexer": "ipython2",
   "version": "2.7.6"
  }
 },
 "nbformat": 4,
 "nbformat_minor": 0
}